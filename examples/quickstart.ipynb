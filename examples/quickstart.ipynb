{
 "cells": [
  {
   "cell_type": "markdown",
   "metadata": {},
   "source": [
    "# Mixtcha Quickstart Guide\n",
    "\n",
    "## Step 0: Sign Up and get an API Key at https://mixtcha.com. \n",
    "\n",
    "Then, save that key in a .env file, in the same subfolder as this notebook \n",
    "\n",
    "`MIXTCHA_API_KEY = sk-1234`"
   ]
  },
  {
   "cell_type": "code",
   "execution_count": null,
   "metadata": {},
   "outputs": [],
   "source": [
    "%pip install openai\n",
    "%pip install python-dotenv"
   ]
  },
  {
   "cell_type": "code",
   "execution_count": null,
   "metadata": {},
   "outputs": [],
   "source": [
    "import os\n",
    "import dotenv\n",
    "dotenv.load_dotenv() #you should have already written .env in Step 0\n",
    "\n",
    "# alternatively - paste your Mixtcha.com API key\n",
    "#MIXTCHA_API_KEY=\"sk-1234\"\n",
    "\n",
    "# Assert that MIXTCHA_API_KEY is present in the environment\n",
    "assert 'MIXTCHA_API_KEY' in os.environ, \"MIXTCHA_API_KEY is not set in the environment. Please make sure it's in your .env file.\"\n",
    "\n",
    "# if you really aren't sure, print it out\n",
    "#print(os.getenv(\"MIXTCHA_API_KEY\"))"
   ]
  },
  {
   "cell_type": "markdown",
   "metadata": {},
   "source": [
    "First, let's show using the OpenAI client and calling an official Mixtcha by name."
   ]
  },
  {
   "cell_type": "code",
   "execution_count": null,
   "metadata": {},
   "outputs": [],
   "source": [
    "client = openai.OpenAI(\n",
    "    api_key=os.getenv(\"MIXTCHA_API_KEY\"),\n",
    "    base_url=\"https://api.mixtcha.com/v0\"\n",
    ")\n",
    "\n",
    "response = client.chat.completions.create(\n",
    "    model=\"freemix\",\n",
    "    messages=[\n",
    "        {\"role\": \"user\", \"content\": \"Hello, how are you?\"}\n",
    "    ]\n",
    ")\n",
    "\n",
    "print(response.choices[0].message.content)"
   ]
  }
 ],
 "metadata": {
  "kernelspec": {
   "display_name": "Python 3",
   "language": "python",
   "name": "python3"
  },
  "language_info": {
   "codemirror_mode": {
    "name": "ipython",
    "version": 3
   },
   "file_extension": ".py",
   "mimetype": "text/x-python",
   "name": "python",
   "nbconvert_exporter": "python",
   "pygments_lexer": "ipython3",
   "version": "3.11.5"
  }
 },
 "nbformat": 4,
 "nbformat_minor": 2
}
