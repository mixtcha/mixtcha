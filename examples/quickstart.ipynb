{
 "cells": [
  {
   "cell_type": "markdown",
   "metadata": {},
   "source": [
    "# Mixtcha Quickstart Guide\n",
    "\n",
    "## Step 0: Sign Up and get an API Key at https://mixtcha.com. \n",
    "\n",
    "Then, save that key in a .env file, in the same subfolder as this notebook \n",
    "\n",
    "`MIXTCHA_API_KEY = sk-1234`"
   ]
  },
  {
   "cell_type": "code",
   "execution_count": null,
   "metadata": {},
   "outputs": [],
   "source": [
    "%pip install openai\n",
    "%pip install python-dotenv"
   ]
  },
  {
   "cell_type": "code",
   "execution_count": null,
   "metadata": {},
   "outputs": [],
   "source": [
    "import os\n",
    "import dotenv\n",
    "dotenv.load_dotenv() #you should have already written .env in Step 0\n",
    "\n",
    "# alternatively - paste your Mixtcha.com API key\n",
    "#MIXTCHA_API_KEY=\"sk-1234\"\n",
    "\n",
    "# Assert that MIXTCHA_API_KEY is present in the environment\n",
    "assert 'MIXTCHA_API_KEY' in os.environ, \"MIXTCHA_API_KEY is not set in the environment. Please make sure it's in your .env file.\"\n",
    "\n",
    "# if you really aren't sure, print it out\n",
    "#print(os.getenv(\"MIXTCHA_API_KEY\"))"
   ]
  },
  {
   "cell_type": "markdown",
   "metadata": {},
   "source": [
    "First, let's show using the OpenAI client and calling an official Mixtcha by name."
   ]
  },
  {
   "cell_type": "code",
   "execution_count": null,
   "metadata": {},
   "outputs": [],
   "source": [
    "client = openai.OpenAI(\n",
    "    api_key=os.getenv(\"MIXTCHA_API_KEY\"),\n",
    "    base_url=\"https://api.mixtcha.com/v0\"\n",
    ")\n",
    "\n",
    "response = client.chat.completions.create(\n",
    "    model=\"freemix\",\n",
    "    messages=[\n",
    "        {\"role\": \"user\", \"content\": \"Hello, how are you?\"}\n",
    "    ]\n",
    ")\n",
    "\n",
    "print(response.choices[0].message.content)"
   ]
  },
  {
   "cell_type": "markdown",
   "metadata": {},
   "source": [
    "We can inspect the intermediate responses to see what is going on under the hood"
   ]
  },
  {
   "cell_type": "code",
   "execution_count": null,
   "metadata": {},
   "outputs": [],
   "source": [
    "#show intermediate respones"
   ]
  },
  {
   "cell_type": "markdown",
   "metadata": {},
   "source": [
    "That's cool, but probably not very useful. Let's show a more useful example that combines the outputs of gpt-4o and claude 3.5 sonnet.\n",
    "\n",
    "Note: These APIs are not free to run, and the rest of this quickstart requires a positive Mixtcha wallet balance to run the cells. Mixtcha is an entirely pay-as-you-go product, you can add a small amount of credits at https://mixtcha.com\n",
    "\n",
    "Because this is an official Mixtcha, we can call it by it's model name 4oso:"
   ]
  },
  {
   "cell_type": "code",
   "execution_count": null,
   "metadata": {},
   "outputs": [],
   "source": [
    "response = client.chat.completions.create(\n",
    "    model=\"4oso\",\n",
    "    messages=[\n",
    "        {\"role\": \"user\", \"content\": \"Hello, how are you?\"}\n",
    "    ]\n",
    ")\n",
    "\n",
    "print(response.choices[0].message.content)"
   ]
  },
  {
   "cell_type": "markdown",
   "metadata": {},
   "source": [
    "the name \"4oso\" is just a shorthand for this configuration file (4oso.yaml), and we'll use that as an opportunity to show how you can load a mixtcha configuration from a publicly accessible urL.\n",
    "\n",
    "this can be a fast way to fork and share mixtchas with others. for example you can load the .yaml from a github repo or gist. \n",
    "\n",
    "be careful to only use mixtcha configuration urls from trusted sources, it is best to inspect the configuration before running it"
   ]
  },
  {
   "cell_type": "code",
   "execution_count": null,
   "metadata": {},
   "outputs": [],
   "source": [
    "configurl = \" \"\n",
    "\n",
    "#we can inspect the configurl content before running the mixtcha\n",
    "#print(...)\n",
    "\n",
    "response = client.chat.completions.create(\n",
    "    model=\"this-name-doesnt-matter\", #this will be overwritten by the configuration from the URL\n",
    "    messages=[\n",
    "        {\"role\": \"user\", \"content\": \"Hello, how are you?\"}\n",
    "    ]\n",
    " default_headers={\"X-Mixtcha-Config-Url\": configurl}\n",
    ")"
   ]
  },
  {
   "cell_type": "markdown",
   "metadata": {},
   "source": [
    "as a third possibility, we can also write the mixtcha configuration directly:\n",
    "\n",
    "in case multiple configurations are defined, the order of priority is the direct configuration `X-Mixtcha-Config`, then the configuration url `X-Mixtcha-Config-Url`, then the model name `model`."
   ]
  },
  {
   "cell_type": "code",
   "execution_count": null,
   "metadata": {},
   "outputs": [],
   "source": [
    "config = \n",
    "\n",
    "response = client.chat.completions.create(\n",
    "    model=\"this-name-doesnt-matter\", #this will be overwritten by the configuration\n",
    "    messages=[\n",
    "        {\"role\": \"user\", \"content\": \"Hello, how are you?\"}\n",
    "    ]\n",
    " default_headers={\"X-Mixtcha-Config\": config}\n",
    ")"
   ]
  }
 ],
 "metadata": {
  "kernelspec": {
   "display_name": "Python 3",
   "language": "python",
   "name": "python3"
  },
  "language_info": {
   "codemirror_mode": {
    "name": "ipython",
    "version": 3
   },
   "file_extension": ".py",
   "mimetype": "text/x-python",
   "name": "python",
   "nbconvert_exporter": "python",
   "pygments_lexer": "ipython3",
   "version": "3.11.5"
  }
 },
 "nbformat": 4,
 "nbformat_minor": 2
}
